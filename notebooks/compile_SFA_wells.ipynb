{
 "cells": [
  {
   "cell_type": "markdown",
   "metadata": {},
   "source": [
    "# compile separete csv files into one file with wellnames added"
   ]
  },
  {
   "cell_type": "code",
   "execution_count": 63,
   "metadata": {},
   "outputs": [],
   "source": [
    "%matplotlib inline\n",
    "import matplotlib as mpl\n",
    "mpl.rcParams['figure.dpi'] = 150"
   ]
  },
  {
   "cell_type": "code",
   "execution_count": 61,
   "metadata": {},
   "outputs": [],
   "source": [
    "import pandas as pd\n",
    "import numpy as np\n",
    "from datetime import datetime, timedelta\n",
    "from glob import glob\n",
    "from natsort import natsorted\n",
    "import re\n",
    "from tqdm.notebook import trange, tqdm"
   ]
  },
  {
   "cell_type": "code",
   "execution_count": 67,
   "metadata": {},
   "outputs": [],
   "source": [
    "fname_wells = \"/Users/shua784/Dropbox/PNNL/People/Velo/300A_Well_Data_2008-2019/\"\n",
    "fname_well_coord = \"/Users/shua784/Dropbox/PNNL/People/Velo/300A_well_coordinates_all.csv\"\n",
    "fname_well_all = fname_wells + \"all_wells_2017-2018.csv\""
   ]
  },
  {
   "cell_type": "code",
   "execution_count": 68,
   "metadata": {},
   "outputs": [],
   "source": [
    "years= [str(i) for i in np.arange(2017, 2019)]"
   ]
  },
  {
   "cell_type": "code",
   "execution_count": 70,
   "metadata": {},
   "outputs": [
    {
     "data": {
      "application/vnd.jupyter.widget-view+json": {
       "model_id": "b7e5d938f58848058c22a9337a72ede7",
       "version_major": 2,
       "version_minor": 0
      },
      "text/plain": [
       "HBox(children=(IntProgress(value=0, max=2), HTML(value='')))"
      ]
     },
     "metadata": {},
     "output_type": "display_data"
    },
    {
     "name": "stdout",
     "output_type": "stream",
     "text": [
      "\n"
     ]
    }
   ],
   "source": [
    "df = pd.DataFrame(columns=(['DateTime', 'Temp', 'SpC', 'WL', 'WellName']))\n",
    "\n",
    "for iyear in tqdm(years[:]):\n",
    "    files = glob(fname_wells + iyear + '/*.csv')\n",
    "    files = natsorted(files)\n",
    "\n",
    "    # ifile = files[0]\n",
    "    for ifile in files[:]:\n",
    "        idf = pd.read_csv(ifile, header = 0, names=['DateTime', 'Temp', 'SpC', 'WL'])\n",
    "        iname = re.sub('_3var.csv', '',re.split('/', ifile)[-1])\n",
    "        idf['WellName'] = np.repeat(np.array(iname), idf.shape[0], axis=0)\n",
    "\n",
    "        df = pd.concat([df, idf])\n",
    "\n",
    "df.to_csv(fname_well_all, index=False)"
   ]
  }
 ],
 "metadata": {
  "kernelspec": {
   "display_name": "Python (nersc-new)",
   "language": "python",
   "name": "nersc-new"
  },
  "language_info": {
   "codemirror_mode": {
    "name": "ipython",
    "version": 3
   },
   "file_extension": ".py",
   "mimetype": "text/x-python",
   "name": "python",
   "nbconvert_exporter": "python",
   "pygments_lexer": "ipython3",
   "version": "3.6.7"
  }
 },
 "nbformat": 4,
 "nbformat_minor": 4
}
