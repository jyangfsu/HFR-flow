{
 "cells": [
  {
   "cell_type": "markdown",
   "metadata": {},
   "source": [
    "# Rename files using R"
   ]
  },
  {
   "cell_type": "markdown",
   "metadata": {},
   "source": [
    "`mixedsort`: sort the embeded numbers in correct orders so that 1, 2, 3, ..., 10, 11, 12... instead of 1, 10, 11, 12..., 2, ..., 3, ...\n",
    "\n",
    "- to execute in batch mode, save this as `rename.R` and on the command line use `Rscript rename.R`"
   ]
  },
  {
   "cell_type": "code",
   "execution_count": null,
   "metadata": {},
   "outputs": [],
   "source": [
    "%R\n",
    "library(gtools)\n",
    "\n",
    "file.rename(mixedsort(list.files(pattern = \"resize*\")), paste0(\"stage\", 1:366, \".jpg\"))"
   ]
  },
  {
   "cell_type": "code",
   "execution_count": null,
   "metadata": {},
   "outputs": [],
   "source": [
    "file.rename(list.files(pattern = \"resize*\"), paste0(\"stage\", sprintf(\"%03d\", 1:366), \".jpg\"))"
   ]
  },
  {
   "cell_type": "markdown",
   "metadata": {},
   "source": [
    "# manipulate figures using `ImageMagic`"
   ]
  },
  {
   "cell_type": "markdown",
   "metadata": {},
   "source": [
    "## resize images\n",
    "1. use `convert -crop` or `convert -resize` to change image size\n",
    "\n",
    "2. or you can use `mogrify` to batch convert"
   ]
  },
  {
   "cell_type": "code",
   "execution_count": null,
   "metadata": {
    "ExecuteTime": {
     "end_time": "2018-05-07T18:07:23.434082Z",
     "start_time": "2018-05-07T18:02:50.759915Z"
    },
    "scrolled": true
   },
   "outputs": [],
   "source": [
    "#!/bin/bash -l\n",
    "\n",
    "cd \"$cwd/age\"\n",
    "\n",
    "for itime in {1..366}\n",
    "do\n",
    "\n",
    "    echo $(printf \"%04d\" $itime)\n",
    "    ## crop & resize image\n",
    "    convert age.\"$(printf \"%04d\" $(($itime+5)) )\".jpg -crop 2000x2000+600+200 \\\n",
    "    -resize 1200 crop.resize.age.trans.\"$(printf \"%04d\" $(($itime+5)) )\".jpg\n",
    "    \n",
    "done\n",
    "\n",
    "cd \"$cwd/tracer\"\n",
    "\n",
    "for itime in {1..366}\n",
    "do\n",
    "\n",
    "    echo $(printf \"%04d\" $itime)\n",
    "    ## crop & resize image\n",
    "    convert tracer.\"$(printf \"%04d\" $(($itime+5)) )\".jpg -crop 2000x2000+600+200 \\\n",
    "    -resize 1200 crop.resize.tracer.trans.\"$(printf \"%04d\" $(($itime+5)) )\".jpg\n",
    "    \n",
    "done"
   ]
  },
  {
   "cell_type": "code",
   "execution_count": null,
   "metadata": {
    "ExecuteTime": {
     "end_time": "2018-05-07T18:26:29.300934Z",
     "start_time": "2018-05-07T18:20:27.513765Z"
    },
    "scrolled": true
   },
   "outputs": [],
   "source": [
    "#!/bin/bash -l\n",
    "\n",
    "cd \"$cwd/tracer_m\"\n",
    "\n",
    "for itime in {1..366}\n",
    "do\n",
    "\n",
    "    echo $(printf \"%04d\" $itime)\n",
    "    ## crop & resize image\n",
    "    convert tracer_m.\"$(printf \"%04d\" $(($itime+5)) )\".jpg -crop 2000x2000+600+200 \\\n",
    "    -resize 800 crop.resize.tracer_m.trans.\"$(printf \"%04d\" $(($itime+5)) )\".jpg\n",
    "    \n",
    "done\n",
    "\n",
    "cd \"$cwd/tracer_n\"\n",
    "\n",
    "for itime in {1..366}\n",
    "do\n",
    "\n",
    "    echo $(printf \"%04d\" $itime)\n",
    "    ## crop & resize image\n",
    "    convert tracer_n.\"$(printf \"%04d\" $(($itime+5)) )\".jpg -crop 2200x2200+500+200 \\\n",
    "    -resize 800 crop.resize.tracer_n.trans.\"$(printf \"%04d\" $(($itime+5)) )\".jpg\n",
    "    \n",
    "done\n",
    "\n",
    "cd \"$cwd/tracer_s\"\n",
    "\n",
    "for itime in {1..366}\n",
    "do\n",
    "\n",
    "    echo $(printf \"%04d\" $itime)\n",
    "    ## crop & resize image\n",
    "    convert tracer_s.\"$(printf \"%04d\" $(($itime+5)) )\".jpg -crop 1200x2400+1000+10 \\\n",
    "    -resize 800 crop.resize.tracer_s.trans.\"$(printf \"%04d\" $(($itime+5)) )\".jpg\n",
    "    \n",
    "done"
   ]
  },
  {
   "cell_type": "markdown",
   "metadata": {},
   "source": [
    "## generate .gif animation\n",
    "\n",
    "use `convert *.jpg .gif` to generate gif animation"
   ]
  },
  {
   "cell_type": "code",
   "execution_count": 10,
   "metadata": {
    "ExecuteTime": {
     "end_time": "2018-05-07T19:06:30.673447Z",
     "start_time": "2018-05-07T19:01:01.300981Z"
    }
   },
   "outputs": [],
   "source": [
    "#!/bin/bash -l\n",
    "\n",
    "cd \"$cwd/age\"\n",
    "\n",
    "convert -delay 1 -loop 0 -quality 75 crop.resize.age.trans.*.jpg age.trans.2011.2015.gif\n",
    "\n",
    "cd \"$cwd/tracer\"\n",
    "\n",
    "convert -delay 1 -loop 0 -quality 75 crop.resize.tracer.trans.*.jpg tracer.trans.2011.2015.gif\n",
    "\n",
    "cd \"$cwd/tracer_s\"\n",
    "\n",
    "convert -delay 1 -loop 0 -quality 75 crop.resize.tracer_s.trans.*.jpg tracer_s.trans.2011.2015.gif\n",
    "\n",
    "cd \"$cwd/tracer_n\"\n",
    "\n",
    "convert -delay 1 -loop 0 -quality 75 crop.resize.tracer_n.trans.*.jpg tracer_n.trans.2011.2015.gif\n",
    "\n",
    "cd \"$cwd/tracer_m\"\n",
    "\n",
    "convert -delay 1 -loop 0 -quality 75 crop.resize.tracer_m.trans.*.jpg tracer_m.trans.2011.2015.gif"
   ]
  },
  {
   "cell_type": "code",
   "execution_count": null,
   "metadata": {
    "ExecuteTime": {
     "start_time": "2018-05-01T00:32:31.904Z"
    }
   },
   "outputs": [],
   "source": [
    "#!/bin/bash -l\n",
    "\n",
    "# cd \"$cwd/age\"\n",
    "\n",
    "convert -delay 1 -loop 0 -quality 75 *.jpg stage.2011.2015.gif"
   ]
  },
  {
   "cell_type": "code",
   "execution_count": null,
   "metadata": {},
   "outputs": [],
   "source": [
    "# convert jpeg to gif\n",
    "#!/bin/bash -l\n",
    "\n",
    "# convert -delay 1 -loop 0 -quality 75 /Users/shua784/Dropbox/PNNL/Projects/Reach_scale_model/Outputs/HFR_model_200x200x5/river_stage/resize*.png -resize 30% /Users/shua784/Dropbox/PNNL/Projects/Reach_scale_model/Outputs/HFR_model_200x200x5/river_stage/river_stage_2011_2015.gif\n",
    "\n",
    "# convert -delay 1 -loop 0 -quality 75 /Users/shua784/Dropbox/PNNL/Projects/Reach_scale_model/Outputs/HFR_model_200x200x5/age/age*.jpg /Users/shua784/Dropbox/PNNL/Projects/Reach_scale_model/Outputs/HFR_model_200x200x5/age/age_2011_2015.gif\n",
    "\n",
    "convert -delay 1 -loop 0 -quality 50 /Users/shua784/Dropbox/PNNL/Projects/Reach_scale_model/Outputs/HFR_model_200x200x5/combined_tracer_age_level/tracer*.jpg -resize 50% /Users/shua784/Dropbox/PNNL/Projects/Reach_scale_model/Outputs/HFR_model_200x200x5/combined_tracer_age_level/tracer_age_level_2011_2015.gif"
   ]
  },
  {
   "cell_type": "markdown",
   "metadata": {},
   "source": [
    "## generate mpeg movie"
   ]
  },
  {
   "cell_type": "markdown",
   "metadata": {},
   "source": [
    "**common video format: mp4, mpg, avi.**"
   ]
  },
  {
   "cell_type": "code",
   "execution_count": null,
   "metadata": {},
   "outputs": [],
   "source": [
    "convert -delay 10 -quality 75 *.jpg stage_tracer_temp.gif &"
   ]
  },
  {
   "cell_type": "markdown",
   "metadata": {},
   "source": [
    "## combine figures\n",
    "use `convert -append` (top to bottom ) or `convert +append` (left to right) to combine figures"
   ]
  },
  {
   "cell_type": "code",
   "execution_count": null,
   "metadata": {},
   "outputs": [],
   "source": [
    "\n",
    "#!/bin/bash -l\n",
    "\n",
    "cd /Users/shua784/Dropbox/PNNL/Projects/Reach_scale_model/Outputs/HFR_model_200x200x5\n",
    "\n",
    "for itime in {1..366} ## timesteps from 2011-1-1 to 2015-12-31\n",
    "\n",
    "do\n",
    "\techo $(printf \"%04d\" $itime)\n",
    "\n",
    "\tconvert /tracer/tracer.\"$(printf \"%04d\" $(($itime+10)) )\".jpg /age/age.\"$(printf \"%04d\" $(($itime+10)) )\".jpg \\\n",
    "    +append combined_tracer_age/tracer_age.\"$itime\".jpg \n",
    "\n",
    "\tconvert river_stage/sorted/stage\"$itime\".jpg -resize 200% -gravity Center combined_tracer_age/tracer_age.\"$itime\".jpg \\\n",
    "    -append combined_tracer_age_level/tracer_age_level.\"$itime\".jpg\" \n",
    "\n",
    "## convert \"/Users/shua784/Dropbox/PNNL/Projects/Reach_scale_model/Outputs/river_stage/sorted/stage_\"$itime\".jpg\" -resize 50% -gravity Center \"/Users/shua784/Dropbox/PNNL/Projects/Reach_scale_model/Outputs/test_2007_age/GW_age/sorted/age.\"$(printf \"%04d\" $(($itime-1)) )\".jpg\" -append \"/Users/shua784/Dropbox/PNNL/Projects/Reach_scale_model/Outputs/test_2007_age/combined_age_level/age_level.\"$itime\".jpg\" \n",
    "\n",
    "## convert \"/Users/shua784/Dropbox/PNNL/Projects/Reach_scale_model/Outputs/river_stage/sorted/stage_\"$itime\".jpg\" -resize 50% -gravity Center \"/Users/shua784/Dropbox/PNNL/Projects/Reach_scale_model/Outputs/test_2007_age/tracer_plume/sorted/tracer.\"$(printf \"%04d\" $(($itime-1)) )\".jpg\" -append \"/Users/shua784/Dropbox/PNNL/Projects/Reach_scale_model/Outputs/test_2007_age/combined_tracer_level/tracer_level.\"$itime\".jpg\" \n",
    "\n",
    " \n",
    "done\n",
    "\n"
   ]
  },
  {
   "cell_type": "code",
   "execution_count": null,
   "metadata": {},
   "outputs": [],
   "source": [
    "%%bash\n",
    "#!/bin/bash -l\n",
    "# cd /Users/shua784/Dropbox/PNNL/Projects/HFR-thermal/outputs/TH-100x100x2-thermal/\n",
    "export hfr_model=/Users/shua784/Dropbox/PNNL/Projects/Reach_scale_model/Outputs/HFR_model_100x100x2_cyclic/\n",
    "export th_model=/Users/shua784/Dropbox/PNNL/Projects/HFR-thermal/outputs/TH-100x100x2-thermal/\n",
    "\n",
    "for itime in {0..365} ## timesteps from 2011-1-1 to 2015-12-31\n",
    "\n",
    "do\n",
    "\techo $(printf \"%04d\" $itime)\n",
    "\n",
    "    # crop image\n",
    "    convert $hfr_model/tracer_viri/sorted/tracer.\"$(printf \"%04d\" $itime )\".png -crop 2000x1550+150+200 $hfr_model/tracer_viri/crop/tracer.\"$(printf \"%04d\" $itime )\".png\n",
    "    convert $th_model/temp_updated/sorted/temp.\"$(printf \"%04d\" $itime)\".png -crop 2000x1550+150+200 $th_model/temp_updated/crop/temp.\"$(printf \"%04d\" $itime)\".png\n",
    "    # combine from left to right\n",
    "\tconvert $hfr_model/tracer_viri/crop/tracer.\"$(printf \"%04d\" $itime )\".png $th_model/temp_updated/crop/temp.\"$(printf \"%04d\" $itime)\".png \\\n",
    "    +append $th_model/c_tracer_temp/tracer_temp.\"$(printf \"%04d\" $itime )\".png \n",
    "    \n",
    "    # combine from top to bottom\n",
    "\tconvert $th_model/stage/sorted/stage.\"$(printf \"%04d\" $itime )\".jpg -resize 80% -gravity Center $th_model/c_tracer_temp/tracer_temp.\"$(printf \"%04d\" $itime )\".png \\\n",
    "    -append $th_model/c_stage_tracer_temp/stage_tracer_temp.\"$(printf \"%04d\" $itime)\".jpg\n",
    " \n",
    "done\n",
    "\n",
    "# make movie\n",
    "# convert -delay 10 -quality 100 combined_stage_temp3d_100H/*.jpg combined_stage_temp3d_100H/stage_temp3d_100H.mp4"
   ]
  }
 ],
 "metadata": {
  "kernelspec": {
   "display_name": "Python 3",
   "language": "python",
   "name": "python3"
  },
  "language_info": {
   "codemirror_mode": {
    "name": "ipython",
    "version": 3
   },
   "file_extension": ".py",
   "mimetype": "text/x-python",
   "name": "python",
   "nbconvert_exporter": "python",
   "pygments_lexer": "ipython3",
   "version": "3.6.8"
  },
  "toc": {
   "base_numbering": 1,
   "nav_menu": {},
   "number_sections": true,
   "sideBar": true,
   "skip_h1_title": false,
   "title_cell": "Table of Contents",
   "title_sidebar": "Contents",
   "toc_cell": false,
   "toc_position": {},
   "toc_section_display": true,
   "toc_window_display": false
  },
  "varInspector": {
   "cols": {
    "lenName": 16,
    "lenType": 16,
    "lenVar": 40
   },
   "kernels_config": {
    "python": {
     "delete_cmd_postfix": "",
     "delete_cmd_prefix": "del ",
     "library": "var_list.py",
     "varRefreshCmd": "print(var_dic_list())"
    },
    "r": {
     "delete_cmd_postfix": ") ",
     "delete_cmd_prefix": "rm(",
     "library": "var_list.r",
     "varRefreshCmd": "cat(var_dic_list()) "
    }
   },
   "types_to_exclude": [
    "module",
    "function",
    "builtin_function_or_method",
    "instance",
    "_Feature"
   ],
   "window_display": false
  }
 },
 "nbformat": 4,
 "nbformat_minor": 4
}
