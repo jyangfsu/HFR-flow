{
 "cells": [
  {
   "cell_type": "code",
   "execution_count": 1,
   "metadata": {},
   "outputs": [],
   "source": [
    "import h5py as h5\n",
    "import glob\n",
    "import numpy as np\n",
    "from datetime import datetime, timedelta"
   ]
  },
  {
   "cell_type": "markdown",
   "metadata": {},
   "source": [
    "## I/O file"
   ]
  },
  {
   "cell_type": "code",
   "execution_count": 2,
   "metadata": {},
   "outputs": [],
   "source": [
    "#output_dir = \"/Users/song884/remote/reach/Outputs/2007_age/\"\n",
    "# output_dir = \"/Users/shua784/Paraview/HFR/test_2007_age/\"\n",
    "\n",
    "# output_h5.close()\n",
    "# output_file = output_dir + \"all_age_flux.h5\"\n",
    "\n",
    "case_name = \"TH-100x100x2-thermal/\"\n",
    "\n",
    "model_dir = \"/global/cscratch1/sd/pshuai/\" + case_name\n",
    "\n",
    "fname_pflotran_h5 = model_dir + \"TH_100x100x2_flow_age.h5\"\n",
    "\n",
    "fname_output_h5 = model_dir + \"TH_100x100x2_thermal-restart-modified_age_tracer.h5\"\n",
    "\n",
    "fname_h5_old = model_dir + \"backup/pflotran_100x100x2_cyclic.h5\"\n",
    "fname_h5_new = model_dir + \"pflotran_100x100x2_cyclic.h5\"\n",
    "\n",
    "fname_h5_age = \"/global/cscratch1/sd/pshuai/TH-100x100x2-flow_age/TH_100x100x2_flow_age-restart.h5\"\n",
    "\n",
    "fname_h5_thermal = model_dir + \"TH_100x100x2_thermal-restart.h5\""
   ]
  },
  {
   "cell_type": "code",
   "execution_count": 3,
   "metadata": {},
   "outputs": [],
   "source": [
    "# view the tree structure of hdf5 file\n",
    "def print_structure(name, obj):\n",
    "    print(name)\n",
    "    \n",
    "## example: input_h5.visititems(print_structure)"
   ]
  },
  {
   "cell_type": "code",
   "execution_count": 4,
   "metadata": {},
   "outputs": [],
   "source": [
    "def batch_delta_to_time(origin, x, time_format, delta_format):\n",
    "    y = []\n",
    "    for ix in x:\n",
    "        if delta_format == \"hours\":\n",
    "            temp_y = origin + timedelta(hours=ix)\n",
    "        elif delta_format == \"days\":\n",
    "            temp_y = origin + timedelta(days=ix)\n",
    "        elif delta_format == \"minutes\":\n",
    "            temp_y = origin + timedelta(minutes=ix)\n",
    "        elif delta_format == \"weeks\":\n",
    "            temp_y = origin + timedelta(weeks=ix)\n",
    "        elif delta_format == \"seconds\":\n",
    "            temp_y = origin + timedelta(seconds=ix)\n",
    "        elif delta_format == \"microseconds\":\n",
    "            temp_y = origin + timedelta(microseconds=ix)\n",
    "        elif delta_format == \"milliseconds\":\n",
    "            temp_y = origin + timedelta(milliseconds=ix)\n",
    "        else:\n",
    "            print(\"Sorry, this naive program only solve single time unit\")\n",
    "        y.append(temp_y.strftime(time_format))\n",
    "    y = np.asarray(y)\n",
    "    return(y)"
   ]
  },
  {
   "cell_type": "code",
   "execution_count": 5,
   "metadata": {},
   "outputs": [],
   "source": [
    "date_origin = datetime.strptime(\"2007-03-28 12:00:00\", \"%Y-%m-%d %H:%M:%S\")"
   ]
  },
  {
   "cell_type": "markdown",
   "metadata": {},
   "source": [
    "# Combine multiple hdf5 files"
   ]
  },
  {
   "cell_type": "code",
   "execution_count": 46,
   "metadata": {},
   "outputs": [],
   "source": [
    "output_h5 = h5.File(fname_output_h5, \"w\")"
   ]
  },
  {
   "cell_type": "code",
   "execution_count": 47,
   "metadata": {},
   "outputs": [],
   "source": [
    "# all_h5 = glob.glob(output_dir + \"pflotran*h5\")\n",
    "# all_h5 = np.sort(all_h5)"
   ]
  },
  {
   "cell_type": "markdown",
   "metadata": {},
   "source": [
    "**copy the 1st h5 file's groups (`Coordinates`, `Provenance`, `Time: xxx h` ...)**"
   ]
  },
  {
   "cell_type": "code",
   "execution_count": null,
   "metadata": {},
   "outputs": [],
   "source": [
    "# i_h5 = all_h5[0]\n",
    "# print(i_h5)\n",
    "input_h5 = h5.File(fname_h5_old, \"r\")\n",
    "\n",
    "groups = list(input_h5.keys())\n",
    "for i_group in groups:\n",
    "    print(i_group)\n",
    "    group_id = output_h5.require_group(i_group)\n",
    "    datasets = list(input_h5[i_group].keys())\n",
    "    for i_dataset in datasets:\n",
    "        input_h5.copy(\"/\" + i_group + \"/\" + i_dataset,\n",
    "                      group_id, name=i_dataset)\n",
    "input_h5.close()"
   ]
  },
  {
   "cell_type": "markdown",
   "metadata": {},
   "source": [
    "**copy the 2nd h5 file's group with `Time: xxx h`** "
   ]
  },
  {
   "cell_type": "code",
   "execution_count": null,
   "metadata": {},
   "outputs": [],
   "source": [
    "# for i_h5 in all_h5[1:]:\n",
    "#     print(i_h5)\n",
    "input_h5 = h5.File(fname_h5_new, \"r\")\n",
    "\n",
    "groups = list(input_h5.keys())\n",
    "groups = [s for s,  s in enumerate(groups) if \"Time:\" in s]\n",
    "for i_group in groups:\n",
    "    print(i_group)\n",
    "    group_id = output_h5.require_group(i_group)\n",
    "    datasets = list(input_h5[i_group].keys())\n",
    "    for i_dataset in datasets:\n",
    "        input_h5.copy(\"/\" + i_group + \"/\" + i_dataset,\n",
    "                      group_id, name=i_dataset)\n",
    "input_h5.close()"
   ]
  },
  {
   "cell_type": "code",
   "execution_count": 50,
   "metadata": {},
   "outputs": [],
   "source": [
    "output_h5.close()"
   ]
  },
  {
   "cell_type": "markdown",
   "metadata": {},
   "source": [
    "# Extract output from a single hdf5 file"
   ]
  },
  {
   "cell_type": "code",
   "execution_count": 20,
   "metadata": {},
   "outputs": [],
   "source": [
    "input_h5 = h5.File(fname_pflotran_h5, \"r\")\n",
    "\n",
    "output_h5 = h5.File(fname_output_h5, \"w\")"
   ]
  },
  {
   "cell_type": "code",
   "execution_count": null,
   "metadata": {},
   "outputs": [],
   "source": [
    "input_h5.visititems(print_structure)"
   ]
  },
  {
   "cell_type": "code",
   "execution_count": 9,
   "metadata": {},
   "outputs": [],
   "source": [
    "groups = list(input_h5.keys())\n",
    "\n",
    "ts_groups = [s for s,  s in enumerate(groups) if \"Time:\" in s]"
   ]
  },
  {
   "cell_type": "code",
   "execution_count": 10,
   "metadata": {},
   "outputs": [],
   "source": [
    "# sort time based on scientific value\n",
    "ts_groups = sorted(ts_groups, key = lambda time: float(time[7:18]))"
   ]
  },
  {
   "cell_type": "code",
   "execution_count": 11,
   "metadata": {},
   "outputs": [],
   "source": [
    "real_time = [str(batch_delta_to_time(date_origin, [float(itime[7:18])], \"%Y-%m-%d %H:%M:%S\", \"hours\")[0])\n",
    "              for itime in ts_groups]"
   ]
  },
  {
   "cell_type": "markdown",
   "metadata": {},
   "source": [
    "**copy groups and dsets from `input_h5`**"
   ]
  },
  {
   "cell_type": "markdown",
   "metadata": {},
   "source": [
    "**extract every 120h**"
   ]
  },
  {
   "cell_type": "code",
   "execution_count": 21,
   "metadata": {
    "scrolled": true
   },
   "outputs": [
    {
     "name": "stdout",
     "output_type": "stream",
     "text": [
      "Coordinates\n",
      "Provenance\n",
      "Time:  3.29880E+04 h\n",
      "Time:  3.31080E+04 h\n",
      "Time:  3.32280E+04 h\n",
      "Time:  3.33480E+04 h\n",
      "Time:  3.34680E+04 h\n",
      "Time:  3.35880E+04 h\n",
      "Time:  3.37080E+04 h\n",
      "Time:  3.38280E+04 h\n",
      "Time:  3.39480E+04 h\n",
      "Time:  3.40680E+04 h\n",
      "Time:  3.41880E+04 h\n",
      "Time:  3.43080E+04 h\n",
      "Time:  3.44280E+04 h\n",
      "Time:  3.45480E+04 h\n",
      "Time:  3.46680E+04 h\n",
      "Time:  3.47880E+04 h\n",
      "Time:  3.49080E+04 h\n",
      "Time:  3.50280E+04 h\n",
      "Time:  3.51480E+04 h\n",
      "Time:  3.52680E+04 h\n",
      "Time:  3.53880E+04 h\n",
      "Time:  3.55080E+04 h\n",
      "Time:  3.56280E+04 h\n",
      "Time:  3.57480E+04 h\n",
      "Time:  3.58680E+04 h\n",
      "Time:  3.59880E+04 h\n",
      "Time:  3.61080E+04 h\n",
      "Time:  3.62280E+04 h\n",
      "Time:  3.63480E+04 h\n",
      "Time:  3.64680E+04 h\n",
      "Time:  3.65880E+04 h\n",
      "Time:  3.67080E+04 h\n",
      "Time:  3.68280E+04 h\n",
      "Time:  3.69480E+04 h\n",
      "Time:  3.70680E+04 h\n",
      "Time:  3.71880E+04 h\n",
      "Time:  3.73080E+04 h\n",
      "Time:  3.74280E+04 h\n",
      "Time:  3.75480E+04 h\n",
      "Time:  3.76680E+04 h\n",
      "Time:  3.77880E+04 h\n",
      "Time:  3.79080E+04 h\n",
      "Time:  3.80280E+04 h\n",
      "Time:  3.81480E+04 h\n",
      "Time:  3.82680E+04 h\n",
      "Time:  3.83880E+04 h\n",
      "Time:  3.85080E+04 h\n",
      "Time:  3.86280E+04 h\n",
      "Time:  3.87480E+04 h\n",
      "Time:  3.88680E+04 h\n",
      "Time:  3.89880E+04 h\n",
      "Time:  3.91080E+04 h\n",
      "Time:  3.92280E+04 h\n",
      "Time:  3.93480E+04 h\n",
      "Time:  3.94680E+04 h\n",
      "Time:  3.95880E+04 h\n",
      "Time:  3.97080E+04 h\n",
      "Time:  3.98280E+04 h\n",
      "Time:  3.99480E+04 h\n",
      "Time:  4.00680E+04 h\n",
      "Time:  4.01880E+04 h\n",
      "Time:  4.03080E+04 h\n",
      "Time:  4.04280E+04 h\n",
      "Time:  4.05480E+04 h\n",
      "Time:  4.06680E+04 h\n",
      "Time:  4.07880E+04 h\n",
      "Time:  4.09080E+04 h\n",
      "Time:  4.10280E+04 h\n",
      "Time:  4.11480E+04 h\n",
      "Time:  4.12680E+04 h\n",
      "Time:  4.13880E+04 h\n",
      "Time:  4.15080E+04 h\n",
      "Time:  4.16280E+04 h\n",
      "Time:  4.17480E+04 h\n",
      "Time:  4.18680E+04 h\n",
      "Time:  4.19880E+04 h\n",
      "Time:  4.21080E+04 h\n",
      "Time:  4.22280E+04 h\n",
      "Time:  4.23480E+04 h\n",
      "Time:  4.24680E+04 h\n",
      "Time:  4.25880E+04 h\n",
      "Time:  4.27080E+04 h\n",
      "Time:  4.28280E+04 h\n",
      "Time:  4.29480E+04 h\n",
      "Time:  4.30680E+04 h\n",
      "Time:  4.31880E+04 h\n",
      "Time:  4.33080E+04 h\n",
      "Time:  4.34280E+04 h\n",
      "Time:  4.35480E+04 h\n",
      "Time:  4.36680E+04 h\n",
      "Time:  4.37880E+04 h\n",
      "Time:  4.39080E+04 h\n",
      "Time:  4.40280E+04 h\n",
      "Time:  4.41480E+04 h\n",
      "Time:  4.42680E+04 h\n",
      "Time:  4.43880E+04 h\n",
      "Time:  4.45080E+04 h\n",
      "Time:  4.46280E+04 h\n",
      "Time:  4.47480E+04 h\n",
      "Time:  4.48680E+04 h\n",
      "Time:  4.49880E+04 h\n",
      "Time:  4.51080E+04 h\n",
      "Time:  4.52280E+04 h\n",
      "Time:  4.53480E+04 h\n",
      "Time:  4.54680E+04 h\n",
      "Time:  4.55880E+04 h\n",
      "Time:  4.57080E+04 h\n",
      "Time:  4.58280E+04 h\n",
      "Time:  4.59480E+04 h\n",
      "Time:  4.60680E+04 h\n",
      "Time:  4.61880E+04 h\n",
      "Time:  4.63080E+04 h\n",
      "Time:  4.64280E+04 h\n",
      "Time:  4.65480E+04 h\n",
      "Time:  4.66680E+04 h\n",
      "Time:  4.67880E+04 h\n",
      "Time:  4.69080E+04 h\n",
      "Time:  4.70280E+04 h\n",
      "Time:  4.71480E+04 h\n",
      "Time:  4.72680E+04 h\n",
      "Time:  4.73880E+04 h\n",
      "Time:  4.75080E+04 h\n",
      "Time:  4.76280E+04 h\n",
      "Time:  4.77480E+04 h\n",
      "Time:  4.78680E+04 h\n",
      "Time:  4.79880E+04 h\n",
      "Time:  4.81080E+04 h\n",
      "Time:  4.82280E+04 h\n",
      "Time:  4.83480E+04 h\n",
      "Time:  4.84680E+04 h\n",
      "Time:  4.85880E+04 h\n",
      "Time:  4.87080E+04 h\n",
      "Time:  4.88280E+04 h\n",
      "Time:  4.89480E+04 h\n",
      "Time:  4.90680E+04 h\n",
      "Time:  4.91880E+04 h\n",
      "Time:  4.93080E+04 h\n",
      "Time:  4.94280E+04 h\n",
      "Time:  4.95480E+04 h\n",
      "Time:  4.96680E+04 h\n",
      "Time:  4.97880E+04 h\n",
      "Time:  4.99080E+04 h\n",
      "Time:  5.00280E+04 h\n",
      "Time:  5.01480E+04 h\n",
      "Time:  5.02680E+04 h\n",
      "Time:  5.03880E+04 h\n",
      "Time:  5.05080E+04 h\n",
      "Time:  5.06280E+04 h\n",
      "Time:  5.07480E+04 h\n",
      "Time:  5.08680E+04 h\n",
      "Time:  5.09880E+04 h\n",
      "Time:  5.11080E+04 h\n",
      "Time:  5.12280E+04 h\n",
      "Time:  5.13480E+04 h\n",
      "Time:  5.14680E+04 h\n",
      "Time:  5.15880E+04 h\n",
      "Time:  5.17080E+04 h\n",
      "Time:  5.18280E+04 h\n",
      "Time:  5.19480E+04 h\n",
      "Time:  5.20680E+04 h\n",
      "Time:  5.21880E+04 h\n",
      "Time:  5.23080E+04 h\n",
      "Time:  5.24280E+04 h\n",
      "Time:  5.25480E+04 h\n",
      "Time:  5.26680E+04 h\n",
      "Time:  5.27880E+04 h\n",
      "Time:  5.29080E+04 h\n",
      "Time:  5.30280E+04 h\n",
      "Time:  5.31480E+04 h\n",
      "Time:  5.32680E+04 h\n",
      "Time:  5.33880E+04 h\n",
      "Time:  5.35080E+04 h\n",
      "Time:  5.36280E+04 h\n",
      "Time:  5.37480E+04 h\n",
      "Time:  5.38680E+04 h\n",
      "Time:  5.39880E+04 h\n",
      "Time:  5.41080E+04 h\n",
      "Time:  5.42280E+04 h\n",
      "Time:  5.43480E+04 h\n",
      "Time:  5.44680E+04 h\n",
      "Time:  5.45880E+04 h\n",
      "Time:  5.47080E+04 h\n",
      "Time:  5.48280E+04 h\n",
      "Time:  5.49480E+04 h\n",
      "Time:  5.50680E+04 h\n",
      "Time:  5.51880E+04 h\n",
      "Time:  5.53080E+04 h\n",
      "Time:  5.54280E+04 h\n",
      "Time:  5.55480E+04 h\n",
      "Time:  5.56680E+04 h\n",
      "Time:  5.57880E+04 h\n",
      "Time:  5.59080E+04 h\n",
      "Time:  5.60280E+04 h\n",
      "Time:  5.61480E+04 h\n",
      "Time:  5.62680E+04 h\n",
      "Time:  5.63880E+04 h\n",
      "Time:  5.65080E+04 h\n",
      "Time:  5.66280E+04 h\n",
      "Time:  5.67480E+04 h\n",
      "Time:  5.68680E+04 h\n",
      "Time:  5.69880E+04 h\n",
      "Time:  5.71080E+04 h\n",
      "Time:  5.72280E+04 h\n",
      "Time:  5.73480E+04 h\n",
      "Time:  5.74680E+04 h\n",
      "Time:  5.75880E+04 h\n",
      "Time:  5.77080E+04 h\n",
      "Time:  5.78280E+04 h\n",
      "Time:  5.79480E+04 h\n",
      "Time:  5.80680E+04 h\n",
      "Time:  5.81880E+04 h\n",
      "Time:  5.83080E+04 h\n",
      "Time:  5.84280E+04 h\n",
      "Time:  5.85480E+04 h\n",
      "Time:  5.86680E+04 h\n",
      "Time:  5.87880E+04 h\n",
      "Time:  5.89080E+04 h\n",
      "Time:  5.90280E+04 h\n",
      "Time:  5.91480E+04 h\n",
      "Time:  5.92680E+04 h\n",
      "Time:  5.93880E+04 h\n",
      "Time:  5.95080E+04 h\n",
      "Time:  5.96280E+04 h\n",
      "Time:  5.97480E+04 h\n",
      "Time:  5.98680E+04 h\n",
      "Time:  5.99880E+04 h\n",
      "Time:  6.01080E+04 h\n",
      "Time:  6.02280E+04 h\n",
      "Time:  6.03480E+04 h\n",
      "Time:  6.04680E+04 h\n",
      "Time:  6.05880E+04 h\n",
      "Time:  6.07080E+04 h\n",
      "Time:  6.08280E+04 h\n",
      "Time:  6.09480E+04 h\n",
      "Time:  6.10680E+04 h\n",
      "Time:  6.11880E+04 h\n",
      "Time:  6.13080E+04 h\n",
      "Time:  6.14280E+04 h\n",
      "Time:  6.15480E+04 h\n",
      "Time:  6.16680E+04 h\n",
      "Time:  6.17880E+04 h\n",
      "Time:  6.19080E+04 h\n",
      "Time:  6.20280E+04 h\n",
      "Time:  6.21480E+04 h\n",
      "Time:  6.22680E+04 h\n",
      "Time:  6.23880E+04 h\n",
      "Time:  6.25080E+04 h\n",
      "Time:  6.26280E+04 h\n",
      "Time:  6.27480E+04 h\n",
      "Time:  6.28680E+04 h\n",
      "Time:  6.29880E+04 h\n",
      "Time:  6.31080E+04 h\n",
      "Time:  6.32280E+04 h\n",
      "Time:  6.33480E+04 h\n",
      "Time:  6.34680E+04 h\n",
      "Time:  6.35880E+04 h\n",
      "Time:  6.37080E+04 h\n",
      "Time:  6.38280E+04 h\n",
      "Time:  6.39480E+04 h\n",
      "Time:  6.40680E+04 h\n",
      "Time:  6.41880E+04 h\n",
      "Time:  6.43080E+04 h\n",
      "Time:  6.44280E+04 h\n",
      "Time:  6.45480E+04 h\n",
      "Time:  6.46680E+04 h\n",
      "Time:  6.47880E+04 h\n",
      "Time:  6.49080E+04 h\n",
      "Time:  6.50280E+04 h\n",
      "Time:  6.51480E+04 h\n",
      "Time:  6.52680E+04 h\n",
      "Time:  6.53880E+04 h\n",
      "Time:  6.55080E+04 h\n",
      "Time:  6.56280E+04 h\n",
      "Time:  6.57480E+04 h\n",
      "Time:  6.58680E+04 h\n",
      "Time:  6.59880E+04 h\n",
      "Time:  6.61080E+04 h\n",
      "Time:  6.62280E+04 h\n",
      "Time:  6.63480E+04 h\n",
      "Time:  6.64680E+04 h\n",
      "Time:  6.65880E+04 h\n",
      "Time:  6.67080E+04 h\n",
      "Time:  6.68280E+04 h\n",
      "Time:  6.69480E+04 h\n",
      "Time:  6.70680E+04 h\n",
      "Time:  6.71880E+04 h\n",
      "Time:  6.73080E+04 h\n",
      "Time:  6.74280E+04 h\n",
      "Time:  6.75480E+04 h\n",
      "Time:  6.76680E+04 h\n",
      "Time:  6.77880E+04 h\n",
      "Time:  6.79080E+04 h\n",
      "Time:  6.80280E+04 h\n",
      "Time:  6.81480E+04 h\n",
      "Time:  6.82680E+04 h\n",
      "Time:  6.83880E+04 h\n",
      "Time:  6.85080E+04 h\n",
      "Time:  6.86280E+04 h\n",
      "Time:  6.87480E+04 h\n",
      "Time:  6.88680E+04 h\n",
      "Time:  6.89880E+04 h\n",
      "Time:  6.91080E+04 h\n",
      "Time:  6.92280E+04 h\n",
      "Time:  6.93480E+04 h\n",
      "Time:  6.94680E+04 h\n",
      "Time:  6.95880E+04 h\n",
      "Time:  6.97080E+04 h\n",
      "Time:  6.98280E+04 h\n",
      "Time:  6.99480E+04 h\n",
      "Time:  7.00680E+04 h\n",
      "Time:  7.01880E+04 h\n",
      "Time:  7.03080E+04 h\n",
      "Time:  7.04280E+04 h\n",
      "Time:  7.05480E+04 h\n",
      "Time:  7.06680E+04 h\n",
      "Time:  7.07880E+04 h\n",
      "Time:  7.09080E+04 h\n",
      "Time:  7.10280E+04 h\n",
      "Time:  7.11480E+04 h\n",
      "Time:  7.12680E+04 h\n",
      "Time:  7.13880E+04 h\n",
      "Time:  7.15080E+04 h\n",
      "Time:  7.16280E+04 h\n",
      "Time:  7.17480E+04 h\n",
      "Time:  7.18680E+04 h\n",
      "Time:  7.19880E+04 h\n",
      "Time:  7.21080E+04 h\n",
      "Time:  7.22280E+04 h\n",
      "Time:  7.23480E+04 h\n",
      "Time:  7.24680E+04 h\n",
      "Time:  7.25880E+04 h\n",
      "Time:  7.27080E+04 h\n",
      "Time:  7.28280E+04 h\n",
      "Time:  7.29480E+04 h\n",
      "Time:  7.30680E+04 h\n",
      "Time:  7.31880E+04 h\n",
      "Time:  7.33080E+04 h\n",
      "Time:  7.34280E+04 h\n",
      "Time:  7.35480E+04 h\n",
      "Time:  7.36680E+04 h\n",
      "Time:  7.37880E+04 h\n",
      "Time:  7.39080E+04 h\n",
      "Time:  7.40280E+04 h\n",
      "Time:  7.41480E+04 h\n",
      "Time:  7.42680E+04 h\n",
      "Time:  7.43880E+04 h\n",
      "Time:  7.45080E+04 h\n",
      "Time:  7.46280E+04 h\n",
      "Time:  7.47480E+04 h\n",
      "Time:  7.48680E+04 h\n",
      "Time:  7.49880E+04 h\n",
      "Time:  7.51080E+04 h\n",
      "Time:  7.52280E+04 h\n",
      "Time:  7.53480E+04 h\n",
      "Time:  7.54680E+04 h\n",
      "Time:  7.55880E+04 h\n",
      "Time:  7.57080E+04 h\n",
      "Time:  7.58280E+04 h\n",
      "Time:  7.59480E+04 h\n",
      "Time:  7.60680E+04 h\n",
      "Time:  7.61880E+04 h\n",
      "Time:  7.63080E+04 h\n",
      "Time:  7.64280E+04 h\n",
      "Time:  7.65480E+04 h\n",
      "Time:  7.66680E+04 h\n",
      "Time:  7.67880E+04 h\n"
     ]
    }
   ],
   "source": [
    "# copy groups before \"Time: xxxx h\"\n",
    "for i_group in groups[:2]:\n",
    "    print(i_group)\n",
    "    group_id = output_h5.require_group(i_group)\n",
    "    datasets = list(input_h5[i_group].keys())\n",
    "    for i_dataset in datasets:\n",
    "        input_h5.copy(\"/\" + i_group + \"/\" + i_dataset,\n",
    "                      group_id, name=i_dataset)\n",
    "\n",
    "# copy each group \"Time: xxxx h\"\n",
    "for i_group in ts_groups[98::20]:\n",
    "    print(i_group)\n",
    "    group_id = output_h5.require_group(i_group)\n",
    "    datasets = list(input_h5[i_group].keys())\n",
    "    \n",
    "    # select to copy only subset datasets[::2] or the full dataset[::]\n",
    "    for i_dataset in datasets[::2]:\n",
    "        input_h5.copy(\"/\" + i_group + \"/\" + i_dataset,\n",
    "                      group_id, name=i_dataset)"
   ]
  },
  {
   "cell_type": "code",
   "execution_count": 22,
   "metadata": {},
   "outputs": [],
   "source": [
    "output_h5.close()\n",
    "\n",
    "input_h5.close()"
   ]
  },
  {
   "cell_type": "markdown",
   "metadata": {},
   "source": [
    "# rewrite part of HDF5 file"
   ]
  },
  {
   "cell_type": "markdown",
   "metadata": {},
   "source": [
    "**note**: for pflotran restart file, `Pressure` and `Temperature` are stored in the flow side with `Pressure` first ('Checkpoint/PMCSubsurfaceFlow/flow'), P1, T1, P2, T2 ...; `Tracer` and `Age` are stored in the transport side (i.e. 'Checkpoint/PMCSubsurfaceTransport/transport')"
   ]
  },
  {
   "cell_type": "code",
   "execution_count": 6,
   "metadata": {},
   "outputs": [],
   "source": [
    "output_h5 = h5.File(fname_output_h5, \"w\")\n",
    "\n",
    "input_h5_1 = h5.File(fname_h5_thermal, \"r\")\n",
    "input_h5_2 = h5.File(fname_h5_age, \"r\")"
   ]
  },
  {
   "cell_type": "markdown",
   "metadata": {},
   "source": [
    "**copy every dataset in the restart file of TH mode**"
   ]
  },
  {
   "cell_type": "code",
   "execution_count": 7,
   "metadata": {},
   "outputs": [
    {
     "name": "stdout",
     "output_type": "stream",
     "text": [
      "Checkpoint\n",
      "PMCSubsurfaceFlow\n",
      "PMCSubsurfaceTransport\n",
      "Revision Number\n"
     ]
    }
   ],
   "source": [
    "groups = list(input_h5_1.keys())\n",
    "for i_group in groups:\n",
    "    print(i_group)\n",
    "    group_id = output_h5.require_group(i_group)\n",
    "    datasets = list(input_h5_1[i_group].keys())\n",
    "    for i_dataset in datasets:\n",
    "        print(i_dataset)\n",
    "        input_h5_1.copy(\"/\" + i_group + \"/\" + i_dataset,\n",
    "                      group_id, name=i_dataset)"
   ]
  },
  {
   "cell_type": "markdown",
   "metadata": {},
   "source": [
    "## replace initial transport "
   ]
  },
  {
   "cell_type": "markdown",
   "metadata": {},
   "source": [
    "**get `Total_tracer` and `Age_tracer` from age simulation, i.e. the `Primary_variable` under transport group**"
   ]
  },
  {
   "cell_type": "code",
   "execution_count": 8,
   "metadata": {},
   "outputs": [
    {
     "data": {
      "text/plain": [
       "['Checkpoint_Activity_Coefs', 'NDOF', 'Primary_Variable']"
      ]
     },
     "execution_count": 8,
     "metadata": {},
     "output_type": "execute_result"
    }
   ],
   "source": [
    "grp_2 = input_h5_2['Checkpoint/PMCSubsurfaceTransport/transport']\n",
    "dset_2 = grp_2['Primary_Variable'] # Total tracer + age tracer\n",
    "list(grp_2.keys())"
   ]
  },
  {
   "cell_type": "markdown",
   "metadata": {},
   "source": [
    "**replace the original `Primary_Variable` with the new `Primary_Variable` from the age simulation**"
   ]
  },
  {
   "cell_type": "code",
   "execution_count": 9,
   "metadata": {},
   "outputs": [
    {
     "data": {
      "text/plain": [
       "<HDF5 dataset \"Primary_Variable\": shape (36000000,), type \"<f8\">"
      ]
     },
     "execution_count": 9,
     "metadata": {},
     "output_type": "execute_result"
    }
   ],
   "source": [
    "grp_1 = output_h5['Checkpoint/PMCSubsurfaceTransport/transport']\n",
    "del grp_1['Primary_Variable'] # Total tracer + age tracer\n",
    "grp_1.create_dataset(\"Primary_Variable\", data=dset_2)"
   ]
  },
  {
   "cell_type": "markdown",
   "metadata": {},
   "source": [
    "## replace initial flow"
   ]
  },
  {
   "cell_type": "markdown",
   "metadata": {},
   "source": [
    "**get Pressure from age simulation, i.e. the Primary_variable under flow group**"
   ]
  },
  {
   "cell_type": "code",
   "execution_count": 10,
   "metadata": {},
   "outputs": [
    {
     "data": {
      "text/plain": [
       "['Permeability_X',\n",
       " 'Permeability_Y',\n",
       " 'Permeability_Z',\n",
       " 'Porosity',\n",
       " 'Primary_Variables',\n",
       " 'State']"
      ]
     },
     "execution_count": 10,
     "metadata": {},
     "output_type": "execute_result"
    }
   ],
   "source": [
    "grp_3 = input_h5_2['Checkpoint/PMCSubsurfaceFlow/flow']\n",
    "dset_3 = grp_3['Primary_Variables'] # flow\n",
    "list(grp_3.keys())"
   ]
  },
  {
   "cell_type": "markdown",
   "metadata": {},
   "source": [
    "**replace the original `Primary_Variables` with the new `Primary_Variables` from the age simulation**"
   ]
  },
  {
   "cell_type": "code",
   "execution_count": 11,
   "metadata": {},
   "outputs": [],
   "source": [
    "grp_1 = output_h5['Checkpoint/PMCSubsurfaceFlow/flow']\n",
    "dset_1 = grp_1['Primary_Variables'] # flow (1) + temperature (2)"
   ]
  },
  {
   "cell_type": "code",
   "execution_count": 18,
   "metadata": {},
   "outputs": [],
   "source": [
    "# replace old pressure head with new pressure head\n",
    "dset_1[::2] = dset_3"
   ]
  },
  {
   "cell_type": "code",
   "execution_count": 20,
   "metadata": {},
   "outputs": [
    {
     "data": {
      "text/plain": [
       "<HDF5 dataset \"Primary_Variables\": shape (36000000,), type \"<f8\">"
      ]
     },
     "execution_count": 20,
     "metadata": {},
     "output_type": "execute_result"
    }
   ],
   "source": [
    "del grp_1['Primary_Variables']\n",
    "grp_1.create_dataset(\"Primary_Variables\", data=dset_1)"
   ]
  },
  {
   "cell_type": "code",
   "execution_count": 21,
   "metadata": {},
   "outputs": [],
   "source": [
    "input_h5_1.close()\n",
    "input_h5_2.close()\n",
    "output_h5.close()"
   ]
  }
 ],
 "metadata": {
  "kernelspec": {
   "display_name": "Python [default]",
   "language": "python",
   "name": "python3"
  },
  "language_info": {
   "codemirror_mode": {
    "name": "ipython",
    "version": 3
   },
   "file_extension": ".py",
   "mimetype": "text/x-python",
   "name": "python",
   "nbconvert_exporter": "python",
   "pygments_lexer": "ipython3",
   "version": "3.6.5"
  },
  "toc": {
   "base_numbering": 1,
   "nav_menu": {},
   "number_sections": true,
   "sideBar": true,
   "skip_h1_title": false,
   "title_cell": "Table of Contents",
   "title_sidebar": "Contents",
   "toc_cell": false,
   "toc_position": {},
   "toc_section_display": true,
   "toc_window_display": false
  },
  "varInspector": {
   "cols": {
    "lenName": 16,
    "lenType": 16,
    "lenVar": 40
   },
   "kernels_config": {
    "python": {
     "delete_cmd_postfix": "",
     "delete_cmd_prefix": "del ",
     "library": "var_list.py",
     "varRefreshCmd": "print(var_dic_list())"
    },
    "r": {
     "delete_cmd_postfix": ") ",
     "delete_cmd_prefix": "rm(",
     "library": "var_list.r",
     "varRefreshCmd": "cat(var_dic_list()) "
    }
   },
   "types_to_exclude": [
    "module",
    "function",
    "builtin_function_or_method",
    "instance",
    "_Feature"
   ],
   "window_display": false
  }
 },
 "nbformat": 4,
 "nbformat_minor": 2
}
